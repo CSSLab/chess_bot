{
 "cells": [
  {
   "cell_type": "code",
   "execution_count": 17,
   "metadata": {},
   "outputs": [],
   "source": [
    "import chess\n",
    "import io\n",
    "import cairosvg"
   ]
  },
  {
   "cell_type": "code",
   "execution_count": 3,
   "metadata": {},
   "outputs": [],
   "source": [
    "b = chess.Board()"
   ]
  },
  {
   "cell_type": "code",
   "execution_count": 4,
   "metadata": {},
   "outputs": [
    {
     "data": {
      "text/plain": [
       "['__class__',\n",
       " '__copy__',\n",
       " '__deepcopy__',\n",
       " '__delattr__',\n",
       " '__dict__',\n",
       " '__dir__',\n",
       " '__doc__',\n",
       " '__eq__',\n",
       " '__format__',\n",
       " '__ge__',\n",
       " '__getattribute__',\n",
       " '__gt__',\n",
       " '__hash__',\n",
       " '__init__',\n",
       " '__init_subclass__',\n",
       " '__le__',\n",
       " '__lt__',\n",
       " '__module__',\n",
       " '__ne__',\n",
       " '__new__',\n",
       " '__reduce__',\n",
       " '__reduce_ex__',\n",
       " '__repr__',\n",
       " '__setattr__',\n",
       " '__sizeof__',\n",
       " '__str__',\n",
       " '__subclasshook__',\n",
       " '__weakref__',\n",
       " '_algebraic',\n",
       " '_attacked_for_king',\n",
       " '_attackers_mask',\n",
       " '_castling_uncovers_rank_attack',\n",
       " '_clear_board',\n",
       " '_ep_skewered',\n",
       " '_epd_operations',\n",
       " '_from_chess960',\n",
       " '_generate_evasions',\n",
       " '_is_safe',\n",
       " '_parse_epd_ops',\n",
       " '_push_capture',\n",
       " '_remove_piece_at',\n",
       " '_repr_svg_',\n",
       " '_reset_board',\n",
       " '_set_board_fen',\n",
       " '_set_castling_fen',\n",
       " '_set_chess960_pos',\n",
       " '_set_piece_at',\n",
       " '_set_piece_map',\n",
       " '_slider_blockers',\n",
       " '_to_chess960',\n",
       " '_transposition_key',\n",
       " '_valid_ep_square',\n",
       " 'aliases',\n",
       " 'attackers',\n",
       " 'attackers_mask',\n",
       " 'attacks',\n",
       " 'attacks_mask',\n",
       " 'bishops',\n",
       " 'board_fen',\n",
       " 'can_claim_draw',\n",
       " 'can_claim_fifty_moves',\n",
       " 'can_claim_threefold_repetition',\n",
       " 'captures_compulsory',\n",
       " 'castling_rights',\n",
       " 'castling_shredder_fen',\n",
       " 'castling_xfen',\n",
       " 'chess960',\n",
       " 'chess960_pos',\n",
       " 'clean_castling_rights',\n",
       " 'clear',\n",
       " 'clear_board',\n",
       " 'clear_stack',\n",
       " 'connected_kings',\n",
       " 'copy',\n",
       " 'empty',\n",
       " 'ep_square',\n",
       " 'epd',\n",
       " 'fen',\n",
       " 'from_chess960_pos',\n",
       " 'from_epd',\n",
       " 'fullmove_number',\n",
       " 'generate_castling_moves',\n",
       " 'generate_legal_captures',\n",
       " 'generate_legal_ep',\n",
       " 'generate_legal_moves',\n",
       " 'generate_pseudo_legal_captures',\n",
       " 'generate_pseudo_legal_ep',\n",
       " 'generate_pseudo_legal_moves',\n",
       " 'halfmove_clock',\n",
       " 'has_castling_rights',\n",
       " 'has_chess960_castling_rights',\n",
       " 'has_kingside_castling_rights',\n",
       " 'has_legal_en_passant',\n",
       " 'has_pseudo_legal_en_passant',\n",
       " 'has_queenside_castling_rights',\n",
       " 'is_attacked_by',\n",
       " 'is_capture',\n",
       " 'is_castling',\n",
       " 'is_check',\n",
       " 'is_checkmate',\n",
       " 'is_en_passant',\n",
       " 'is_fivefold_repetition',\n",
       " 'is_game_over',\n",
       " 'is_insufficient_material',\n",
       " 'is_into_check',\n",
       " 'is_irreversible',\n",
       " 'is_kingside_castling',\n",
       " 'is_legal',\n",
       " 'is_pinned',\n",
       " 'is_pseudo_legal',\n",
       " 'is_queenside_castling',\n",
       " 'is_seventyfive_moves',\n",
       " 'is_stalemate',\n",
       " 'is_valid',\n",
       " 'is_variant_draw',\n",
       " 'is_variant_end',\n",
       " 'is_variant_loss',\n",
       " 'is_variant_win',\n",
       " 'is_zeroing',\n",
       " 'king',\n",
       " 'kings',\n",
       " 'knights',\n",
       " 'lan',\n",
       " 'legal_moves',\n",
       " 'mirror',\n",
       " 'move_stack',\n",
       " 'occupied',\n",
       " 'occupied_co',\n",
       " 'one_king',\n",
       " 'parse_san',\n",
       " 'parse_uci',\n",
       " 'pawnless_tbw_magic',\n",
       " 'pawnless_tbw_suffix',\n",
       " 'pawnless_tbz_magic',\n",
       " 'pawnless_tbz_suffix',\n",
       " 'pawns',\n",
       " 'peek',\n",
       " 'piece_at',\n",
       " 'piece_map',\n",
       " 'piece_type_at',\n",
       " 'pieces',\n",
       " 'pieces_mask',\n",
       " 'pin',\n",
       " 'pin_mask',\n",
       " 'pop',\n",
       " 'promoted',\n",
       " 'pseudo_legal_moves',\n",
       " 'push',\n",
       " 'push_san',\n",
       " 'push_uci',\n",
       " 'queens',\n",
       " 'remove_piece_at',\n",
       " 'reset',\n",
       " 'reset_board',\n",
       " 'result',\n",
       " 'rooks',\n",
       " 'root',\n",
       " 'san',\n",
       " 'set_board_fen',\n",
       " 'set_castling_fen',\n",
       " 'set_chess960_pos',\n",
       " 'set_epd',\n",
       " 'set_fen',\n",
       " 'set_piece_at',\n",
       " 'set_piece_map',\n",
       " 'shredder_fen',\n",
       " 'stack',\n",
       " 'starting_fen',\n",
       " 'status',\n",
       " 'tbw_magic',\n",
       " 'tbw_suffix',\n",
       " 'tbz_magic',\n",
       " 'tbz_suffix',\n",
       " 'turn',\n",
       " 'uci',\n",
       " 'uci_variant',\n",
       " 'unicode',\n",
       " 'variation_san',\n",
       " 'was_into_check']"
      ]
     },
     "execution_count": 4,
     "metadata": {},
     "output_type": "execute_result"
    }
   ],
   "source": [
    "dir(b)"
   ]
  },
  {
   "cell_type": "code",
   "execution_count": 18,
   "metadata": {},
   "outputs": [
    {
     "data": {
      "text/plain": [
       "b'\\x89PNG\\r\\n\\x1a\\n\\x00\\x00\\x00\\rIHDR\\x00\\x00\\x01\\x90\\x00\\x00\\x01\\x90\\x08\\x06\\x00\\x00\\x00\\x80\\xbf6\\xcc\\x00\\x00\\x00\\x06bKGD\\x00\\xff\\x00\\xff\\x00\\xff\\xa0\\xbd\\xa7\\x93\\x00\\x00\\x14\\xdaIDATx\\x9c\\xed\\xdd{\\x90mg]\\xe6\\xf1oB\\x90\\x04%\\x17AE\\x86\\xab\\x06A\\xc0\\x04D\\xb1DQ\\xe4\\xa0\\x0e\\xe0\\r\\x14\\x82:\\xe3\\x8c\\x97\\xa2\\xbc\\x8c\\x83N\\xe1\\x94b\\xcd\\x885%\"\\x94\\x97\\x11\\x06\\x15\\xb9x\\x1b!\\\\D\\x90\\x02\\x82\\x89\\xa5h!\\x8cE\\xa2Q&(\\x81\\x11\\xa4\\x14J\\x81@\\x8c!&!\\xf3\\xc7\\xdb\\xa7h\\xa2\\xd9\\xbd\\xf7\\xdb}z\\xaf>\\xf9|\\xaa\\xba\\xba{\\x9d\\xea\\x9d\\xa7VV\\xff\\x9e\\xbd\\xde\\xb5v\\xef\\x02\\x00\\x00\\x00\\x00nE\\xeeX}\\xe3\\xb6C\\xdc\\x8a}C\\xf5i\\xdb\\x0eq\\x92:\\xb5zt\\xf5\\x98m\\x079I}S\\x8e\\xdd[\\xbd\\x87V\\x1f\\xddv\\x88[\\xb1\\x0fU_\\xbe\\xed\\x10\\'\\xa9\\x9fh\\xec\\xdf\\xa7o;\\xc8I\\xea\\xfa\\x8e\\xe0\\xb1{\\xea\\xb6\\x03\\x00G\\xc2\\x03\\xab\\x17WO\\xddv\\x10\\x96\\xe3\\xb4m\\x07\\xd8\\xc3Y\\xd5wW\\xe7W\\xd7V\\x974\\x0e\\xe2\\x9b\\xb6\\x19j\\r\\xe7V?T\\x9d\\xd1\\xc8\\xfc\\xab\\xdb\\x8d\\xb3\\x96\\x87U\\xdfY}F\\xf5\\xd6\\xea\\x99\\xd5G\\xb6\\x9aho__]P]U={\\xcbY\\xd6\\xf5\\xb5\\x8d\\xe5\\x8a\\xdbUo\\xa8^\\xd4\\xf2\\x8f\\xe7\\xef\\xaa\\xee[}j\\xe3\\x18y\\xc1v\\xe3\\xac\\xe5\\x91\\xd5\\x13\\x1bs\\xe3\\xe7w\\xbe\\xfe\\x95\\xeao\\xb6\\x98i/\\xb7o\\x9c\\xe9\\xdd\\xbb\\xfa\\xeb\\xea\\xa7\\xaa\\x0fl3\\xd0^\\x96~\\x06\\xf2\\xb2\\xc6\\x81\\xf0\\x9a\\xea\\xb2\\xea9\\xd5\\xf7n5\\xd1\\xden[\\xbd\\xbazW\\xf5\\x8e\\xc6`\\xfb\\xb1\\xad&\\xda\\xdb\\xe3\\xaa\\xd7W\\xef\\xad~\\xbb1\\xe4^\\xb4\\xd5D{\\xfb\\x8e\\xea\\xa5\\xd5\\xfb\\xab\\xbf\\xaf^\\xd5\\xf8\\x05\\\\\\xb2\\xefo<\\x99x{ui\\xe3\\xb8x\\xceV\\x13\\xad\\xe7\\xef\\xaa\\x7f\\xaa\\xfe\\xa1z\\xdf\\x96\\xb3\\xac\\xe3\\x9b\\xabW4\\x8e\\x8b\\xab\\x1a\\xc7\\xf6S\\xab\\xcf\\xdcf\\xa85\\xfcB\\xe3\\x18~c\\xf5\\xd8\\xea\\xf9\\xdb\\x8ds\\xb4\\x9dV\\xbd\\xa4\\xba\\xc7\\xaem\\xbfX\\xfd\\xfav\\xe2\\xac\\xe5\\xa1\\x8dg\\x93\\xbb\\xd72\\xbf\\xad\\xf1\\xcbw\\xbb\\xad$Z\\xcf\\xdb\\xaag\\xec\\xfa\\xfeA\\x8d!w\\xfav\\xe2\\xec\\xe9\\xb4\\xea=\\xd5\\x93wm{x\\xffr\\xdf/\\xc9Y\\xd5\\x87\\x1b\\x17\\xfa\\x8f\\xfb\\xe2\\xc6\\xda\\xf7\\x9d\\xb7\\x92h3\\xaf\\xad\\x9e\\xb6\\xed\\x10k8\\xb5\\xfa\\xdb\\xeaI\\xbb\\xb6}u\\xe3\\xd8x\\xc8V\\x12\\xad\\xe7\\xfa\\xc6\\x19\\xc7qO\\xaa>\\xb8\\xa5,k[\\xf2\\x12\\xd6\\r\\x8dg\\x99_S}{u\\x97\\xea\\xf1\\x8d\\x03y\\xc9\\xaem<\\x838\\xee\\xe2\\xc6R\\xd6\\xbd\\x1aCyiNo,O|\\xdf\\xaem\\x97\\xedl[\\xaa{Vw\\xab~g\\xd7\\xb6\\xdf\\xaf\\xae\\xd9F\\x985}^uf\\xe3Z\\xc2}v\\xb6\\xdd\\xa61\\xf0\\xce\\xebh<\\xb3?\\n\\xee\\xd28\\xd3\\xb8h\\xd7\\xb6\\x8b\\x1b\\x03z\\xe9\\xfep\\xd7\\xd7\\xef\\xa9\\xee\\xb0\\xad \\xebZr\\x81\\xdc\\xb1zsc \\xbf\\xb2\\xb1sOo\\xfc\\xd2-\\xd9G\\xfb\\xc45\\xed\\x1bv>\\x7fl\\x0bY\\xd6qNc\\x88]\\xbd\\xed \\x1b8{\\xe7\\xf3\\xcd\\x0bc\\xc9C\\xe2\\xec\\xc6qq\\xdd\\xaem76\\x96V\\xde\\xbd\\x95D\\'\\xa73w>\\xef>6nl\\xd9\\xc7\\xc6qG\\xe9w\\xb0Zv\\x81<\\xae\\xfa\\x94\\xea~}\\xfc\\x7f\\xfe\\x13Z\\xfe\\x85\\xdds\\x1a\\xcbn\\xc7\\x87\\xc2\\x83\\x1bKXK\\x1d\\x12\\xefk\\x1c\\xb8\\xf7o\\\\<\\xafz@\\xf5\\xf2\\xc6R\\xd6\\xb5[\\xca\\xb5\\xca;\\x1b\\xc3\\xf8\\xfc\\xc6\\x85\\xe8\\x1a\\xfb\\xfc\\xec[\\xfc\\x89\\xed\\xbb\\xb2:\\xa5q\\x8d\\xe9\\x8a\\x9dmgV?\\xd2\\x11X\\xaa8B\\xde\\xdd86>\\xb7\\x8f?\\xa3?\\xbf\\xe5_\\x1f;\\x92\\x96|\\x11\\xfd\\x03\\x8d_\\xb0\\xf3\\x1b/\\xb0yrulg\\xdbR\\xd7\\xe6k<\\xdbync\\x08\\x7fI\\xf5\\xb3\\x8d\\x8ba\\xd7\\xad\\xfa\\xa1-\\xba\\xa9\\x91\\xf7i\\x8d\\xc2\\xb8g#\\xf3_\\xb4\\xcc\\xf2\\xa8\\xf1z\\x84\\x17W?\\xddX\\xfe\\xf9\\xac\\xeay-\\xfbY\\xe6\\xdb\\xab75\\xf6\\xed\\xdd\\xab\\xbb6\\xae\\xe9=\\xa2qq\\x9a\\x83qM\\xe3\\xa6\\x9b\\x9f\\xab\\xbe\\xa8qM\\xec\\x05-\\xffN7\\x0e\\xd8\\xa9\\xd5\\x0b\\x1bKB\\xd74n\\xc5{T\\xe3\\x8e\\x90\\'\\xad\\xf8\\xb9m\\xba_\\xe3\\xce\\xa0\\x1fh\\x14\\xe0u\\xd5/\\xb7\\xfcg?\\xb7m\\xdc>xec\\xff\\xfeF\\xe3\\x96\\xcd%;\\xabqC\\xc5\\xd5\\x8dByJ\\xe3\\x0e\\xa7\\xf3\\xb6\\x19j\\x0f\\xe742^U\\xfdc\\xf5[\\x8d5\\xfb\\xa3\\xe0\\xe9\\x8d\\x1bB\\x8e\\x82On\\x1c\\xcf\\x7f\\xd68\\xab\\xfe\\xba\\xc6\\x12\\xf2\\x92\\x8f\\x8d\\xd7\\xf7\\x89\\xf9\\xbepg\\x1b\\x00\\x87\\xe8\\xb1\\x8d3\\xbc\\xe3>\\xbbq-r\\xe9O\\x8a\\x00\\xd8\\xb2\\x8b\\xab\\xdfk,a\\x1d\\xab^\\xd7x]\\x08\\x00\\xact\\xe7\\xc6\\x0ba\\xafh,c=\\xab#pK,\\x00\\x00\\x00\\x00p\\xe0N9\\xe8\\x07\\xbc\\xe9\\xd2\\x17\\x1e\\xb9\\xfb\\xad/\\xbf\\xe4\\xc2mG\\xd8\\xd8y\\xc7.\\xd8v\\x84\\x8d\\xd9\\xcf\\x87\\xc3~>\\x1cGq?\\x9f\\xffC\\x17\\x1d\\xe8\\xcc_\\xf2\\x0b\\t\\x01X0\\x05\\x02\\xc0\\x14\\x05\\x02\\xc0\\x14\\x05\\x02\\xc0\\x14\\x05\\x02\\xc0\\x14\\x05\\x02\\xc0\\x14\\x05\\x02\\xc0\\x14\\x05\\x02\\xc0\\x14\\x05\\x02\\xc0\\x14\\x05\\x02\\xc0\\x14\\x05\\x02\\xc0\\x14\\x05\\x02\\xc0\\x14\\x05\\x02\\xc0\\x14\\x05\\x02\\xc0\\x14\\x05\\x02\\xc0\\x94\\xbd\\n\\xe43\\xaa\\x97W\\x1f\\xa9\\xae\\xae^U\\xdd\\xfdD\\x87\\x02\\xe0\\xd0m<\\xef\\xf7*\\x90\\xe7W\\x9f^}Y\\xf5\\x88\\x9d\\xff\\xc0o\\xec;&\\x00K\\xb3\\xf1\\xbc?m\\xc5\\xbf\\x9dR=\\xb2\\xfa\\x96\\xeaOw\\xb6=\\xabz\\xf1\\xce\\xbf\\x1d\\xb9w\\x1e\\x04\\xe0_55\\xefW\\x9d\\x81\\xdcT\\xfdE\\xf5\\xf8\\xea\\xf6\\xd5\\x19\\xd5\\x13\\xab7\\xdf\\xd2\\x83\\x01p$M\\xcd\\xfbUg U\\xff\\xbe\\xfa\\xe3\\xeaC;\\xdf__=p\\xbfI\\x01X\\x9c\\x8d\\xe7\\xfd\\xaa3\\x90\\xdbU\\xaf\\xac\\xfe\\xbc\\xfa\\xb7\\xd5\\xa3\\xaa?\\xaa^\\xdfh(\\x00N\\x0eS\\xf3~\\xd5\\x19\\xc8WT\\xf7\\xad\\x1e^\\xbd\\x7fg\\xdbe\\xd5\\x07v\\xb6\\xbdv\\x9f\\x81\\x01X\\x86\\xa9y\\xbf\\xea\\x0c\\xe4\\xc6\\x9b}\\xae\\xfah\\xf5\\xb1\\xea\\x9f\\xe7s\\x02\\xb00S\\xf3~U\\x81\\xbc\\xa5\\xd1>\\xbf\\xd4\\xb8\\x17\\xf8n\\xd5\\xcfW\\xefm\\xac\\x93\\x01pr\\x98\\x9a\\xf7\\xab\\n\\xe4#\\xd5W6\\xee\\x05\\xfe\\xab\\xea/\\xabs\\xab\\xc7T\\xd7\\x1cHd\\x00\\x96`j\\xde\\xefu\\x17\\xd6e\\xd5\\x97\\x1eP@\\x00\\x96k\\xe3y\\xefoa\\x010E\\x81\\x000E\\x81\\x000E\\x81\\x000E\\x81\\x000E\\x81\\x000E\\x81\\x000E\\x81\\x000E\\x81\\x000E\\x81\\x000E\\x81\\x000E\\x81\\x000E\\x81\\x000E\\x81\\x000E\\x81\\x000E\\x81\\x000E\\x81\\x000E\\x81\\x000e\\xaf\\xb7\\xb4\\xdd\\xd8\\xe5\\x97\\\\x\\xd0\\x0fy\\xc2\\x9dw\\xec\\x82mG\\xd8\\x98\\xfd|8\\xec\\xe7\\xc3a?\\x1f\\x96\\x8b\\x0e\\xf4\\xd1\\x9c\\x81\\x000E\\x81\\x000E\\x81\\x000E\\x81\\x000E\\x81\\x000E\\x81\\x000E\\x81\\x000E\\x81\\x000E\\x81\\x000E\\x81\\x000E\\x81\\x000E\\x81\\x000E\\x81\\x000E\\x81\\x000E\\x81\\x000eU\\x81|K\\xf5\\xce[\\xf8\\xf8\\xe6\\x13\\x1f\\r\\x80C25\\xefW\\xbd\\xa1\\xd4[\\xaa\\x1f\\xbe\\xd9\\xb6\\xcf\\xa9\\xfe[\\xf5\\x97\\xfbI\\n\\xc0\\xa2L\\xcd\\xfbU\\x05r\\xbc}\\x8e\\xbb\\xdd\\xce\\x7f\\xe4\\x07\\xabK\\xe72\\x02\\xb0@S\\xf3~\\x93k \\xff\\xbd\\xfa\\x87\\xea\\x17f\\xd2\\x01pd\\xac5\\xef\\xd7}O\\xf4\\xbbU\\xff\\xa5z\\xf8\\xfe2\\x01\\xb0pk\\xcf\\xfbu\\xcf@\\x9eR\\xbd\\xa1qJ\\x03\\xc0\\xc9k\\xedy\\xbf\\xce\\x19\\xc8\\xa7W\\xdfU=q\\x9f\\xa1\\x00X\\xb6\\x8d\\xe6\\xfd:g \\xdfX]]\\xbdn\\x1f\\xa1\\x00X\\xbe\\x8d\\xe6\\xfd:\\x05\\xf2U\\xd5\\xc5\\xd5\\r\\xfb\\x08\\x05\\xc0\\xf2m4\\xef\\xd7)\\x90\\xeb\\xabW\\xee\\'\\x11\\x00G\\xc2F\\xf3~\\x9dk O\\x98\\xcf\\x02\\xc0\\x11\\xb2\\xd1\\xbc\\xf7\\xb7\\xb0\\x00\\x98\\xa2@\\x00\\x98\\xa2@\\x00\\x98\\xa2@\\x00\\x98\\xa2@\\x00\\x98\\xa2@\\x00\\x98\\xa2@\\x00\\x98\\xa2@\\x00\\x98\\xa2@\\x00\\x98\\xa2@\\x00\\x98\\xa2@\\x00\\x98\\xa2@\\x00\\x98\\xa2@\\x00\\x98\\xa2@\\x00\\x98\\xa2@\\x00\\x98\\xa2@\\x00\\x98\\xa2@\\x00\\x98\\xa2@\\x00\\x98\\xb2\\xce[\\xdan\\xe4\\xbcc\\x17\\x1c\\xf4C\\x9ep\\x97_r\\xe1\\xb6#l\\xcc~>\\x1c\\xf6\\xf3\\xe1\\xb0\\x9f\\x8f&g \\x00LQ \\x00LQ \\x00LQ \\x00LQ \\x00LQ \\x00LQ \\x00LQ \\x00LQ \\x00LQ \\x00LQ \\x00LQ \\x00LQ \\x00LQ \\x00LQ \\x00L\\xd9\\xab@N\\xad\\x9e^]U]W\\xfdY\\xf5E\\':\\x14\\x00\\x87n\\xe3y\\xbfW\\x81\\xfcp\\xf5\\x1f\\xabGWw\\xaf.\\xad~\\xb3:e\\x9fA\\x01X\\x96\\x8d\\xe7\\xfd\\xaa\\x029\\xb5\\xfa\\xc1\\xeaG\\xab7U\\xef\\xaf\\x9eZ\\xbd\\xac\\xfa\\xe4\\x03\\x89\\x0b\\xc0\\x12L\\xcd\\xfbUoi\\xfb\\x80\\xeaN\\xd5%\\xd5\\x05\\xd5]\\xaa77Z\\n\\x80\\x93\\xc7\\xd4\\xbc_u\\x06r\\xb7\\xea\\x9f\\xab\\xd7V\\xdfS=\\xaa\\xfa\\x83\\xea\\x19\\x07\\x10\\x16\\x80\\xe5\\x98\\x9a\\xf7\\xab\\n\\xe4\\xf6\\xd5\\'U\\xbfV=\\xbc\\xfa\\xaa\\xea[\\xaa\\xffZ\\x9d\\xbb\\xef\\xb8\\x00,\\xc5\\xd4\\xbc_U \\xef\\xdb\\xf9\\xfc\\x92]\\xdb^Y\\xddP\\xdd\\x7f\\x1fA\\x01X\\x96\\xa9y\\xbf\\xaa@\\xae\\xacn\\xaa\\xee\\xbak\\xdb\\x9d\\xaa\\xdbV\\xef\\x9d\\xcb\\x08\\xc0\\x02M\\xcd\\xfbU\\x05\\xf2w\\x8d\\x06zv\\xf5\\xa0\\xea^\\xd5s\\xab\\xb74n\\xef\\x02\\xe0\\xe405\\xef\\xf7z\\x1d\\xc8\\xbf\\xab\\xfe\\xb8\\xfa\\xdd\\xea\\xb2\\xc6][\\x8fo4\\x15\\x00\\'\\x8f\\x8d\\xe7\\xfd\\xaa\\xdbx\\xab\\xae\\xad\\xfe\\xd3\\xce\\x07\\x00\\'\\xaf\\x8d\\xe7\\xbd\\xbf\\x85\\x05\\xc0\\x14\\x05\\x02\\xc0\\x14\\x05\\x02\\xc0\\x14\\x05\\x02\\xc0\\x14\\x05\\x02\\xc0\\x14\\x05\\x02\\xc0\\x14\\x05\\x02\\xc0\\x14\\x05\\x02\\xc0\\x14\\x05\\x02\\xc0\\x14\\x05\\x02\\xc0\\x14\\x05\\x02\\xc0\\x14\\x05\\x02\\xc0\\x14\\x05\\x02\\xc0\\x14\\x05\\x02\\xc0\\x14\\x05\\x02\\xc0\\x14\\x05\\x02\\xc0\\x14\\x05\\x02\\xc0\\x14\\x05\\x02\\xc0\\x94\\xbd\\xde\\xd2vc\\x97_r\\xe1A?\\xe4\\tw\\xde\\xb1\\x0b\\xb6\\x1dac\\xf6\\xf3\\xe1\\xb0\\x9f\\x0f\\x87\\xfd|X.:\\xd0Gs\\x06\\x02\\xc0\\x14\\x05\\x02\\xc0\\x14\\x05\\x02\\xc0\\x14\\x05\\x02\\xc0\\x14\\x05\\x02\\xc0\\x14\\x05\\x02\\xc0\\x14\\x05\\x02\\xc0\\x14\\x05\\x02\\xc0\\x14\\x05\\x02\\xc0\\x14\\x05\\x02\\xc0\\x14\\x05\\x02\\xc0\\x14\\x05\\x02\\xc0\\x14\\x05\\x02\\xc0\\x14\\x05\\x02\\xc0\\x14\\x05\\x02\\xc0\\x94\\xbd\\n\\xe4Q\\xd5;o\\xf6\\xf1\\x9a\\x13\\x1d\\n\\x80C\\xb7\\xf1\\xbc\\xdf\\xeb\\r\\xa5\\x1eP\\xfd\\xbf\\xea\\x97vm\\xbbj\\x1f\\x01\\x01X\\xa6\\x8d\\xe7\\xfd^\\x05r\\xef\\xea\\x92\\xeae\\xfb\\xcb\\x05\\xc0\\xc2m<\\xef\\xf7*\\x90s\\xab+\\xaa\\xff\\\\\\xdd\\xa1\\xfa\\xdd\\xea\\xff\\xcc\\xa6\\x03`\\xb16\\x9e\\xf7{]\\x039\\xb7\\xfa\\xf1\\xea\\xcb\\xaa\\xcf\\xaf\\xfe\\xa8\\xfa\\xc9}\\xc7\\x04`i6\\x9e\\xf7{\\x9d\\x81<\\xbbzm\\xf5\\xb6\\x9d\\xef\\x1fW\\xbd\\xbc\\xfa\\xd5\\xea\\xed\\xfbI\\n\\xc0\\xa2l<\\xef\\xf7*\\x90g\\xdd\\xec\\xfbWW\\x1f\\xab\\xee\\x7fK\\x0f\\x08\\xc0\\x91\\xb4\\xf1\\xbc_\\xb5\\x84\\xf5\\x85\\xd5\\xeb\\xaa\\xd3wm\\xbbGu\\x9b\\xea\\xaf\\xa7#\\x02\\xb04S\\xf3~U\\x81\\xbcc\\xe7A\\x7f\\xa6\\xba{u\\xbf\\xea\\x85\\xd5\\x9b\\xaaK\\xf7\\x97\\x15\\x80\\x05\\x99\\x9a\\xf7\\xab\\n\\xe4\\xaa\\xc6\\x0bK\\xee[\\xfdU\\xf5\\xd6\\xeaC\\xd5\\x13\\xaa\\x9b\\x0e$2\\x00K05\\xef\\xf7\\xba\\x06\\xf2\\'\\xd5#\\x0e( \\x00\\xcb\\xb5\\xf1\\xbc\\xf7\\xb7\\xb0\\x00\\x98\\xa2@\\x00\\x98\\xa2@\\x00\\x98\\xa2@\\x00\\x98\\xa2@\\x00\\x98\\xa2@\\x00\\x98\\xa2@\\x00\\x98\\xa2@\\x00\\x98\\xa2@\\x00\\x98\\xa2@\\x00\\x98\\xa2@\\x00\\x98\\xa2@\\x00\\x98\\xa2@\\x00\\x98\\xa2@\\x00\\x98\\xa2@\\x00\\x98\\xa2@\\x00\\x98\\xa2@\\x00\\x98\\xa2@\\x00\\x98\\xb2\\xd7[\\xdan\\xec\\xbcc\\x17\\x1c\\xf4C\\x9ep\\x97_r\\xe1\\xb6#l\\xcc~>\\x1c\\xf6\\xf3\\xe1\\xb0\\x9f\\x8f&g \\x00LQ \\x00LQ \\x00LQ \\x00LQ \\x00LQ \\x00LQ \\x00LQ \\x00LQ \\x00LQ \\x00LQ \\x00LQ \\x00LQ \\x00LQ \\x00L\\xd9\\xb4@\\xce\\xa9N9\\x11A\\x00X\\x94=\\xe7\\xfd&\\x05\\xf2=\\xd5\\x07\\xab3\\xf6\\x93\\x08\\x80\\xc5[k\\xde\\xaf[ \\xf7\\xa9\\x9e\\xb9\\xdfD\\x00,\\xde\\xda\\xf3~\\x9d\\x029\\xa3zE\\xf5\\xbf\\xf6\\x93\\x08\\x80\\xc5\\xdbh\\xde\\xafS \\xcf\\xaa\\xfe\\xa4\\xfa\\xad}\\x84\\x02`\\xf96\\x9a\\xf7{\\xbd\\'\\xfa\\xd7W_Y}~u\\xff\\xfd\\xe5\\x02`\\xc16\\x9e\\xf7\\xab\\n\\xe4\\xee\\xd5\\xf3\\xaa\\xc7T\\xd7\\xec;\\x1a\\x00K55\\xefW\\x15\\xc8\\xb7V\\x9fT\\xfd\\xe4\\xce\\xf7g\\xee|~M\\xf5\\xfc\\xea77\\xcf\\x08\\xc0\\x02M\\xcd\\xfbU\\x05\\xf2\\xdb\\xd5\\x95\\xbb\\xbe\\xbfW\\xf5\\x90\\xea\\x85\\xd5e\\xfbI\\n\\xc0\\xa2L\\xcd\\xfbU\\x05r\\xc5\\xce\\xc7q\\x0f\\xaa~\\xaaqq\\xe5\\x9f\\xa6c\\x02\\xb04S\\xf3~\\x93\\x17\\x12^]]\\\\\\xdd8\\x93\\x0e\\x80#c\\xady\\xbf\\xd7]X\\xbb]\\xd9\\xb8B\\x0f\\xc0\\xc9m\\xady\\xef\\x8f)\\x020E\\x81\\x000E\\x81\\x000E\\x81\\x000E\\x81\\x000E\\x81\\x000E\\x81\\x000E\\x81\\x000E\\x81\\x000E\\x81\\x000E\\x81\\x000E\\x81\\x000E\\x81\\x000E\\x81\\x000E\\x81\\x000E\\x81\\x000E\\x81\\x000E\\x81\\x000e\\x93\\xb7\\xb4]\\xcb\\xe5\\x97\\\\x\\xd0\\x0fy\\xc2\\x9dw\\xec\\x82mG\\xd8\\x98\\xfd|8\\xec\\xe7\\xc3a?\\x1f\\x96\\x8b\\x0e\\xf4\\xd1\\x9c\\x81\\x000E\\x81\\x000E\\x81\\x000E\\x81\\x000E\\x81\\x000E\\x81\\x000E\\x81\\x000E\\x81\\x000E\\x81\\x000E\\x81\\x000E\\x81\\x000E\\x81\\x000E\\x81\\x000E\\x81\\x000E\\x81\\x000e\\xaf\\x02\\xb9G\\xf5\\x07\\xd5M\\xd5U\\xd5\\xefT\\xf7>\\xd1\\xa1\\x008t\\x1b\\xcf\\xfb\\xbd\\n\\xe47\\xab\\xeb\\xaa/\\xa8\\x1eV\\x9dY\\xfd\\xef}\\xc7\\x04`i6\\x9e\\xf7\\xab\\xde\\x91\\xf0.\\xd5C\\xab\\xcf\\xa9\\xde\\xb1\\xb3\\xed\\x99\\xd5\\xab\\xaa\\xdbT7\\xee3,\\x00\\xcb05\\xefW\\x9d\\x81|\\xb0\\xd1D\\xef\\xda\\xb5\\xed\\xd1\\xd5\\xdbn\\xe9\\xc1\\x008\\x92\\xa6\\xe6\\xfd\\xaa3\\x90\\x8fVo\\xdd\\xf9\\xfa\\x97\\xaa\\xc7Vw\\xa8\\x1e\\xb9\\xaf\\x98\\x00,\\xcd\\xd4\\xbc_\\xf7.\\xac\\xffY}\\x7f\\xf5G\\xd5\\xcb\\xaas\\xe62\\x02\\xb0pk\\xcf\\xfbU\\x05r\\xd7\\xeaKw\\xbe\\xfe\\xbf\\xd5\\x85\\x8dV\\xbaS\\xf5\\x98\\x03\\x89\\t\\xc0\\x12L\\xcd\\xfbU\\x05\\xf2\\x05\\xd5\\xefV\\xa7\\xef\\xdav}\\xf5\\xb1\\xea\\xea\\xfd$\\x05`Q\\xa6\\xe6\\xfd\\xaa\\x02\\xf9\\xbd\\x9d\\x1f|n\\xf5\\xc0\\x9d\\x8f\\x17U\\x7f_\\xfd\\xfe\\xfe\\xb2\\x02\\xb0 S\\xf3~U\\x81|\\xa4z|\\xf5\\xe0\\xea-\\xd5\\x1b\\x1b\\xa73_]}\\xf8 \\x12\\x03\\xb0\\x08S\\xf3~\\xd5]X5^\\x95x\\xfe\\x01\\x05\\x04`\\xb96\\x9e\\xf7\\xfe\\x16\\x16\\x00S\\x14\\x08\\x00S\\x14\\x08\\x00S\\x14\\x08\\x00S\\x14\\x08\\x00S\\x14\\x08\\x00S\\x14\\x08\\x00S\\x14\\x08\\x00S\\x14\\x08\\x00S\\x14\\x08\\x00S\\x14\\x08\\x00S\\x14\\x08\\x00S\\x14\\x08\\x00S\\x14\\x08\\x00S\\x14\\x08\\x00S\\x14\\x08\\x00S\\x14\\x08\\x00S\\x14\\x08\\x00S\\xf6zK\\xdb\\x8d\\x9dw\\xec\\x82\\x83~\\xc8\\x13\\xee\\xf2K.\\xdcv\\x84\\x8d\\xd9\\xcf\\x87\\xc3~>\\x1c\\xf6\\xf3\\xd1\\xe4\\x0c\\x04\\x80)\\n\\x04\\x80)\\n\\x04\\x80)\\n\\x04\\x80)\\n\\x04\\x80)\\n\\x04\\x80)\\n\\x04\\x80)\\n\\x04\\x80)\\n\\x04\\x80)\\n\\x04\\x80)\\n\\x04\\x80)\\n\\x04\\x80)\\n\\x04\\x80)\\n\\x04\\x80)\\n\\x04\\x80){\\x15\\xc8\\xa7U\\xaf\\xac\\xae\\xaf\\xae\\xab.\\xaf\\xbe\\xfcD\\x87\\x02\\xe0\\xd0m<\\xef\\xf7*\\x90\\xe7W\\xff\\xa6zX\\xf5\\xe0\\xea\\xcf\\xab\\x97Vg\\xef7)\\x00\\x8b\\xb2\\xf1\\xbc_\\xf5\\x8e\\x84\\xb7\\xaf\\x1eS=\\xb2z\\xf3\\xce\\xb6\\xef\\xab>X}Y\\xf5\\xea\\xfd\\xe7\\x05`\\x01\\xa6\\xe6\\xfd\\xaa3\\x90S\\xab\\xef\\xad\\xde\\xbak\\xdbY\\xd5)\\xd55\\xfb\\x0c\\x0b\\xc0rL\\xcd\\xfbUg \\xffX=o\\xd7\\xf7\\xe7V/\\xd9\\xf9\\x0f\\xfc\\xc1tL\\x00\\x96fj\\xde\\xafs\\x17\\xd6m\\xab\\xa7T\\x7fZ]Q\\x1d\\xabn\\x98\\x8e\\t\\xc0Rm4\\xefW\\x9d\\x81\\xd4\\xb8\\xa0\\xf2\\x8a\\xea\\x8c\\xea\\x1b\\xaa\\x8b\\x0f&#\\x00\\x0b\\xb3\\xf1\\xbc\\xdf\\xab@^Z\\xbd\\xbb\\xfa\\xb6\\xc6m]\\x00\\x9c\\x9c6\\x9e\\xf7\\xab\\n\\xe4\\xf3\\xaa\\x87V?Z\\xfd\\x87\\x9b\\xfd\\xdb\\xc5\\xd5\\xbb&\\x02\\x02\\xb0<S\\xf3~U\\x81\\x9c\\xb3\\xf3\\x83_\\xf1\\xaf\\xfc\\xdb_\\xde\\xd2\\x03\\x02p\\xe4L\\xcd\\xfbU\\x05\\xf2\\xc6\\xea+\\xf7\\x9f\\x0b\\x80\\x85\\x9b\\x9a\\xf7\\xfe\\x16\\x16\\x00S\\x14\\x08\\x00S\\x14\\x08\\x00S\\x14\\x08\\x00S\\x14\\x08\\x00S\\x14\\x08\\x00S\\x14\\x08\\x00S\\x14\\x08\\x00S\\x14\\x08\\x00S\\x14\\x08\\x00S\\x14\\x08\\x00S\\x14\\x08\\x00S\\x14\\x08\\x00S\\x14\\x08\\x00S\\x14\\x08\\x00S\\x14\\x08\\x00S\\x14\\x08\\x00S\\x14\\x08\\x00SV\\xbd\\xa5\\xed\\x94\\xcb/\\xb9\\xf0\\xa0\\x1f\\xf2\\x84;\\xef\\xd8\\x05\\xdb\\x8e\\xb01\\xfb\\xf9p\\xd8\\xcf\\x87\\xc3~>,\\x17\\x1d\\xe8\\xa39\\x03\\x01`\\x8a\\x02\\x01`\\x8a\\x02\\x01`\\x8a\\x02\\x01`\\x8a\\x02\\x01`\\x8a\\x02\\x01`\\x8a\\x02\\x01`\\x8a\\x02\\x01`\\x8a\\x02\\x01`\\x8a\\x02\\x01`\\x8a\\x02\\x01`\\x8a\\x02\\x01`\\x8a\\x02\\x01`\\x8a\\x02\\x01`\\x8a\\x02\\x01`\\xca&\\x05\\xf2M\\xd5\\xa5\\'*\\x08\\x00\\x8b\\xb1\\xd6\\xbc_\\xe7\\r\\xa5\\xce\\xad\\x1eR\\xfd\\x8f\\xea\\xc3\\xfb\\x0c\\x05\\xc0rm4\\xef\\xd7)\\x90\\x1f\\xaf\\xeeS\\x9d\\xb1\\xce\\x03\\x02pdm4\\xef\\xd7Y\\xc2\\xfa\\xd6\\xea\\x0b\\xaa\\xe7\\xed/\\x17\\x00\\x0b\\xb7\\xd1\\xbcw\\x11\\x1d\\x80)\\n\\x04\\x80)\\n\\x04\\x80)\\n\\x04\\x80)\\n\\x04\\x80)\\x9b\\x14\\xc8\\xbb\\xaa\\xb7\\x9c\\xa8 \\x00,\\xc6Z\\xf3~\\x9d\\xd7\\x81\\x1c\\xf7k;\\x1f\\x00\\x9c\\xdc\\xd6\\x9a\\xf7\\x96\\xb0\\x00\\x98\\xa2@\\x00\\x98\\xa2@\\x00\\x98\\xa2@\\x00\\x98\\xa2@\\x00\\x98\\xa2@\\x00\\x98\\xa2@\\x00\\x98\\xa2@\\x00\\x98\\xa2@\\x00\\x98\\xa2@\\x00\\x98\\xa2@\\x00\\x98\\xa2@\\x00\\x98\\xa2@\\x00\\x98\\xa2@\\x00\\x98\\xa2@\\x00\\x98\\xa2@\\x00\\x98\\xa2@\\x00\\x98\\xa2@\\x00\\x00\\x00\\x00\\x00\\x00\\xd8\\xcb\\x1d\\xabo\\xdcv\\x88[\\xb1o\\xa8>m\\xdb!NR\\xa7V\\x8f\\xae\\x1e\\xb3\\xed \\'\\xa9o\\xca\\xb1{\\xab\\xf7\\xd0\\xea\\xa3\\xdb\\x0eq+\\xf6\\xa1\\xea\\xcb\\xb7\\x1d\\xe2$\\xf5\\x13\\x8d\\xfd\\xfb\\xf4m\\x079I]\\xdf\\x11<v\\xdd\\x85\\x05\\xac\\xe3\\x81\\xd5\\x8b\\xab\\xa7n;\\x08\\xcbq\\xda\\xb6\\x03\\xec\\xe1\\xac\\xea\\xbb\\xab\\xf3\\xabk\\xabK\\x1a\\x07\\xf1M\\xdb\\x0c\\xb5\\x86s\\xab\\x1f\\xaa\\xcehd\\xfe\\xd5\\xed\\xc6Y\\xcb\\xc3\\xaa\\xef\\xac>\\xa3zk\\xf5\\xcc\\xea#[M\\xb4\\xb7\\xaf\\xaf.\\xa8\\xae\\xaa\\x9e\\xbd\\xe5,\\xeb\\xfa\\xda\\xc6r\\xc5\\xed\\xaa7T/j\\xf9\\xc7\\xf3wU\\xf7\\xad>\\xb5q\\x8c\\xbc`\\xbbq\\xd6\\xf2\\xc8\\xea\\x89\\x8d\\xb9\\xf1\\xf3;_\\xffJ\\xf57[\\xcc\\xb4\\x97\\xdb7\\xce\\xf4\\xee]\\xfdu\\xf5S\\xd5\\x07\\xb6\\x19h/K?\\x03yY\\xe3@xMuY\\xf5\\x9c\\xea{\\xb7\\x9aho\\xb7\\xad^]\\xbd\\xabzGc\\xb0\\xfd\\xd8V\\x13\\xed\\xedq\\xd5\\xeb\\xab\\xf7V\\xbf\\xdd\\x18r/\\xdaj\\xa2\\xbd}G\\xf5\\xd2\\xea\\xfd\\xd5\\xdfW\\xafj\\xfc\\x02.\\xd9\\xf77\\x9eL\\xbc\\xbd\\xba\\xb4q\\\\<g\\xab\\x89\\xd6\\xf3w\\xd5?U\\xffP\\xbdo\\xcbY\\xd6\\xf1\\xcd\\xd5+\\x1a\\xc7\\xc5U\\x8dc\\xfb\\xa9\\xd5gn3\\xd4\\x1a~\\xa1q\\x0c\\xbf\\xb1zl\\xf5\\xfc\\xed\\xc69\\xdaN\\xab^R\\xddc\\xd7\\xb6_\\xac~};q\\xd6\\xf2\\xd0\\xc6\\xb3\\xc9\\xddk\\x99\\xdf\\xd6\\xf8\\xe5\\xbb\\xddV\\x12\\xad\\xe7m\\xd53v}\\xff\\xa0\\xc6\\x90;};q\\xf6tZ\\xf5\\x9e\\xea\\xc9\\xbb\\xb6=\\xbc\\x7f\\xb9\\xef\\x97\\xe4\\xac\\xea\\xc3\\x8d\\x0b\\xfd\\xc7}qc\\xed\\xfb\\xce[I\\xb4\\x99\\xd7VO\\xdbv\\x885\\x9cZ\\xfdm\\xf5\\xa4]\\xdb\\xbe\\xbaql<d+\\x89\\xd6s}\\xe3\\x8c\\xe3\\xb8\\'U\\x1f\\xdcR\\x96\\xb5-y\\t\\xeb\\x86\\xc6\\xb3\\xcc\\xaf\\xa9\\xbe\\xbd\\xbaK\\xf5\\xf8\\xc6\\x81\\xbcd\\xd76\\x9eA\\x1cwqc)\\xeb^\\x8d\\xa1\\xbc4\\xa77\\x96\\'\\xbeo\\xd7\\xb6\\xcbv\\xb6-\\xd5=\\xab\\xbbU\\xbf\\xb3k\\xdb\\xefW\\xd7l#\\xcc\\x9a>\\xaf:\\xb3q-\\xe1>;\\xdbn\\xd3\\x18x\\xe7u4\\x9e\\xd9\\x1f\\x05wi\\x9ci\\\\\\xb4k\\xdb\\xc5\\x8d\\x01\\xbdt\\x7f\\xb8\\xeb\\xeb\\xf7Tw\\xd8V\\x90u-\\xb9@\\xeeX\\xbd\\xb91\\x90_\\xd9\\xd8\\xb9\\xa77~\\xe9\\x96\\xec\\xa3}\\xe2\\x9a\\xf6\\r;\\x9f?\\xb6\\x85,\\xeb8\\xa71\\xc4\\xae\\xdev\\x90\\r\\x9c\\xbd\\xf3\\xf9\\xe6\\x85\\xb1\\xe4!qv\\xe3\\xb8\\xb8n\\xd7\\xb6\\x1b\\x1bK+\\xef\\xdeJ\\xa2\\x93\\xd3\\x99;\\x9fw\\x1f\\x1b7\\xb6\\xecc\\xe3\\xb8\\xa3\\xf4;X-\\xbb@\\x1eW}Ju\\xbf>\\xfe?\\xff\\t-\\xff\\xc2\\xee9\\x8de\\xb7\\xe3C\\xe1\\xc1\\x8d%\\xac\\xa5\\x0e\\x89\\xf75\\x0e\\xdc\\xfb7.\\x9eW=\\xa0zyc)\\xeb\\xda-\\xe5Z\\xe5\\x9d\\x8da|~\\xe3Bt\\x8d}~\\xf6-\\xfe\\xc4\\xf6]Y\\x9d\\xd2\\xb8\\xc6t\\xc5\\xce\\xb63\\xab\\x1f\\xe9\\x08,U\\x1c!\\xefn\\x1c\\x1b\\x9f\\xdb\\xc7\\x9f\\xd1\\x9f\\xdf\\xf2\\xaf\\x8f\\x1dIK\\xbe\\x88\\xfe\\x81\\xc6/\\xd8\\xf9\\x8d\\x17\\xd8<\\xb9:\\xb6\\xb3m\\xa9k\\xf35\\x9e\\xed<\\xb71\\x84\\xbf\\xa4\\xfa\\xd9\\xc6\\xc5\\xb0\\xebV\\xfd\\xd0\\x16\\xdd\\xd4\\xc8\\xfb\\xb4Fa\\xdc\\xb3\\x91\\xf9/Zfy\\xd4x=\\xc2\\x8b\\xab\\x9fn,\\xff|V\\xf5\\xbc\\x96\\xfd,\\xf3\\xed\\xd5\\x9b\\x1a\\xfb\\xf6\\xee\\xd5]\\x1b\\xd7\\xf4\\x1e\\xd1\\xb88\\xcd\\xc1\\xb8\\xa6q\\xd3\\xcd\\xcfU_\\xd4\\xb8&\\xf6\\x82\\x96\\x7f\\xa7\\x1b\\x07\\xec\\xd4\\xea\\x85\\x8d%\\xa1k\\x1a\\xb7\\xe2=\\xaaqG\\xc8\\x93V\\xfc\\xdc6\\xdd\\xafqg\\xd0\\x0f4\\n\\xf0\\xba\\xea\\x97[\\xfe\\xb3\\x9f\\xdb6n\\x1f\\xbc\\xb2\\xb1\\x7f\\x7f\\xa3q\\xcb\\xe6\\x92\\x9d\\xd5\\xb8\\xa1\\xe2\\xeaF\\xa1<\\xa5q\\x87\\xd3y\\xdb\\x0c\\xb5\\x87s\\x1a\\x19\\xaf\\xaa\\xfe\\xb1\\xfa\\xad\\xc6\\x9a\\xfdQ\\xf0\\xf4\\xc6\\r!G\\xc1\\'7\\x8e\\xe7?k\\x9cU\\x7f]c\\ty\\xc9\\xc7\\xc6\\xeb\\xfb\\xc4|_\\xb8\\xb3\\r\\x80C\\xf4\\xd8\\xc6\\x19\\xdeq\\x9f\\xdd\\xb8\\x16\\xb9\\xf4\\'E\\x00l\\xd9\\xc5\\xd5\\xef5\\x96\\xb0\\x8eU\\xafk\\xbc.\\x04\\x00V\\xbas\\xe3\\x85\\xb0W4\\x96\\xb1\\x9e\\xd5\\x11\\xb8%\\x16\\x00\\x00\\x00\\x008p\\xff\\x1f\\x0b4\\xb8\\x8d\\x9c\\xef\\xa6n\\x00\\x00\\x00\\x00IEND\\xaeB`\\x82'"
      ]
     },
     "execution_count": 18,
     "metadata": {},
     "output_type": "execute_result"
    }
   ],
   "source": [
    "cairosvg.svg2png(chess.svg.board())"
   ]
  },
  {
   "cell_type": "code",
   "execution_count": 8,
   "metadata": {},
   "outputs": [
    {
     "name": "stdout",
     "output_type": "stream",
     "text": [
      "<svg height=\"400\" version=\"1.1\" viewBox=\"0 0 400 400\" width=\"400\" xmlns=\"http://www.w3.org/2000/svg\" xmlns:xlink=\"http://www.w3.org/1999/xlink\"><defs><g class=\"white pawn\" id=\"white-pawn\"><path d=\"M22 9c-2.21 0-4 1.79-4 4 0 .89.29 1.71.78 2.38-1.95 1.12-3.28 3.21-3.28 5.62 0 2.03.94 3.84 2.41 5.03-3 1.06-7.41 5.55-7.41 13.47h23c0-7.92-4.41-12.41-7.41-13.47 1.47-1.19 2.41-3 2.41-5.03 0-2.41-1.33-4.5-3.28-5.62.49-.67.78-1.49.78-2.38 0-2.21-1.79-4-4-4z\" fill=\"#fff\" stroke=\"#000\" stroke-linecap=\"round\" stroke-width=\"1.5\" /></g><g class=\"white knight\" fill=\"none\" fill-rule=\"evenodd\" id=\"white-knight\" stroke=\"#000\" stroke-linecap=\"round\" stroke-linejoin=\"round\" stroke-width=\"1.5\"><path d=\"M 22,10 C 32.5,11 38.5,18 38,39 L 15,39 C 15,30 25,32.5 23,18\" style=\"fill:#ffffff; stroke:#000000;\" /><path d=\"M 24,18 C 24.38,20.91 18.45,25.37 16,27 C 13,29 13.18,31.34 11,31 C 9.958,30.06 12.41,27.96 11,28 C 10,28 11.19,29.23 10,30 C 9,30 5.997,31 6,26 C 6,24 12,14 12,14 C 12,14 13.89,12.1 14,10.5 C 13.27,9.506 13.5,8.5 13.5,7.5 C 14.5,6.5 16.5,10 16.5,10 L 18.5,10 C 18.5,10 19.28,8.008 21,7 C 22,7 22,10 22,10\" style=\"fill:#ffffff; stroke:#000000;\" /><path d=\"M 9.5 25.5 A 0.5 0.5 0 1 1 8.5,25.5 A 0.5 0.5 0 1 1 9.5 25.5 z\" style=\"fill:#000000; stroke:#000000;\" /><path d=\"M 15 15.5 A 0.5 1.5 0 1 1 14,15.5 A 0.5 1.5 0 1 1 15 15.5 z\" style=\"fill:#000000; stroke:#000000;\" transform=\"matrix(0.866,0.5,-0.5,0.866,9.693,-5.173)\" /></g><g class=\"white bishop\" fill=\"none\" fill-rule=\"evenodd\" id=\"white-bishop\" stroke=\"#000\" stroke-linecap=\"round\" stroke-linejoin=\"round\" stroke-width=\"1.5\"><g fill=\"#fff\" stroke-linecap=\"butt\"><path d=\"M9 36c3.39-.97 10.11.43 13.5-2 3.39 2.43 10.11 1.03 13.5 2 0 0 1.65.54 3 2-.68.97-1.65.99-3 .5-3.39-.97-10.11.46-13.5-1-3.39 1.46-10.11.03-13.5 1-1.354.49-2.323.47-3-.5 1.354-1.94 3-2 3-2zM15 32c2.5 2.5 12.5 2.5 15 0 .5-1.5 0-2 0-2 0-2.5-2.5-4-2.5-4 5.5-1.5 6-11.5-5-15.5-11 4-10.5 14-5 15.5 0 0-2.5 1.5-2.5 4 0 0-.5.5 0 2zM25 8a2.5 2.5 0 1 1-5 0 2.5 2.5 0 1 1 5 0z\" /></g><path d=\"M17.5 26h10M15 30h15m-7.5-14.5v5M20 18h5\" stroke-linejoin=\"miter\" /></g><g class=\"white rook\" fill=\"#fff\" fill-rule=\"evenodd\" id=\"white-rook\" stroke=\"#000\" stroke-linecap=\"round\" stroke-linejoin=\"round\" stroke-width=\"1.5\"><path d=\"M9 39h27v-3H9v3zM12 36v-4h21v4H12zM11 14V9h4v2h5V9h5v2h5V9h4v5\" stroke-linecap=\"butt\" /><path d=\"M34 14l-3 3H14l-3-3\" /><path d=\"M31 17v12.5H14V17\" stroke-linecap=\"butt\" stroke-linejoin=\"miter\" /><path d=\"M31 29.5l1.5 2.5h-20l1.5-2.5\" /><path d=\"M11 14h23\" fill=\"none\" stroke-linejoin=\"miter\" /></g><g class=\"white queen\" fill=\"#fff\" fill-rule=\"evenodd\" id=\"white-queen\" stroke=\"#000\" stroke-linecap=\"round\" stroke-linejoin=\"round\" stroke-width=\"1.5\"><path d=\"M8 12a2 2 0 1 1-4 0 2 2 0 1 1 4 0zM24.5 7.5a2 2 0 1 1-4 0 2 2 0 1 1 4 0zM41 12a2 2 0 1 1-4 0 2 2 0 1 1 4 0zM16 8.5a2 2 0 1 1-4 0 2 2 0 1 1 4 0zM33 9a2 2 0 1 1-4 0 2 2 0 1 1 4 0z\" /><path d=\"M9 26c8.5-1.5 21-1.5 27 0l2-12-7 11V11l-5.5 13.5-3-15-3 15-5.5-14V25L7 14l2 12zM9 26c0 2 1.5 2 2.5 4 1 1.5 1 1 .5 3.5-1.5 1-1.5 2.5-1.5 2.5-1.5 1.5.5 2.5.5 2.5 6.5 1 16.5 1 23 0 0 0 1.5-1 0-2.5 0 0 .5-1.5-1-2.5-.5-2.5-.5-2 .5-3.5 1-2 2.5-2 2.5-4-8.5-1.5-18.5-1.5-27 0z\" stroke-linecap=\"butt\" /><path d=\"M11.5 30c3.5-1 18.5-1 22 0M12 33.5c6-1 15-1 21 0\" fill=\"none\" /></g><g class=\"white king\" fill=\"none\" fill-rule=\"evenodd\" id=\"white-king\" stroke=\"#000\" stroke-linecap=\"round\" stroke-linejoin=\"round\" stroke-width=\"1.5\"><path d=\"M22.5 11.63V6M20 8h5\" stroke-linejoin=\"miter\" /><path d=\"M22.5 25s4.5-7.5 3-10.5c0 0-1-2.5-3-2.5s-3 2.5-3 2.5c-1.5 3 3 10.5 3 10.5\" fill=\"#fff\" stroke-linecap=\"butt\" stroke-linejoin=\"miter\" /><path d=\"M11.5 37c5.5 3.5 15.5 3.5 21 0v-7s9-4.5 6-10.5c-4-6.5-13.5-3.5-16 4V27v-3.5c-3.5-7.5-13-10.5-16-4-3 6 5 10 5 10V37z\" fill=\"#fff\" /><path d=\"M11.5 30c5.5-3 15.5-3 21 0m-21 3.5c5.5-3 15.5-3 21 0m-21 3.5c5.5-3 15.5-3 21 0\" /></g><g class=\"black pawn\" id=\"black-pawn\"><path d=\"M22 9c-2.21 0-4 1.79-4 4 0 .89.29 1.71.78 2.38-1.95 1.12-3.28 3.21-3.28 5.62 0 2.03.94 3.84 2.41 5.03-3 1.06-7.41 5.55-7.41 13.47h23c0-7.92-4.41-12.41-7.41-13.47 1.47-1.19 2.41-3 2.41-5.03 0-2.41-1.33-4.5-3.28-5.62.49-.67.78-1.49.78-2.38 0-2.21-1.79-4-4-4z\" stroke=\"#000\" stroke-linecap=\"round\" stroke-width=\"1.5\" /></g><g class=\"black knight\" fill=\"none\" fill-rule=\"evenodd\" id=\"black-knight\" stroke=\"#000\" stroke-linecap=\"round\" stroke-linejoin=\"round\" stroke-width=\"1.5\"><path d=\"M 22,10 C 32.5,11 38.5,18 38,39 L 15,39 C 15,30 25,32.5 23,18\" style=\"fill:#000000; stroke:#000000;\" /><path d=\"M 24,18 C 24.38,20.91 18.45,25.37 16,27 C 13,29 13.18,31.34 11,31 C 9.958,30.06 12.41,27.96 11,28 C 10,28 11.19,29.23 10,30 C 9,30 5.997,31 6,26 C 6,24 12,14 12,14 C 12,14 13.89,12.1 14,10.5 C 13.27,9.506 13.5,8.5 13.5,7.5 C 14.5,6.5 16.5,10 16.5,10 L 18.5,10 C 18.5,10 19.28,8.008 21,7 C 22,7 22,10 22,10\" style=\"fill:#000000; stroke:#000000;\" /><path d=\"M 9.5 25.5 A 0.5 0.5 0 1 1 8.5,25.5 A 0.5 0.5 0 1 1 9.5 25.5 z\" style=\"fill:#ececec; stroke:#ececec;\" /><path d=\"M 15 15.5 A 0.5 1.5 0 1 1 14,15.5 A 0.5 1.5 0 1 1 15 15.5 z\" style=\"fill:#ececec; stroke:#ececec;\" transform=\"matrix(0.866,0.5,-0.5,0.866,9.693,-5.173)\" /><path d=\"M 24.55,10.4 L 24.1,11.85 L 24.6,12 C 27.75,13 30.25,14.49 32.5,18.75 C 34.75,23.01 35.75,29.06 35.25,39 L 35.2,39.5 L 37.45,39.5 L 37.5,39 C 38,28.94 36.62,22.15 34.25,17.66 C 31.88,13.17 28.46,11.02 25.06,10.5 L 24.55,10.4 z \" style=\"fill:#ececec; stroke:none;\" /></g><g class=\"black bishop\" fill=\"none\" fill-rule=\"evenodd\" id=\"black-bishop\" stroke=\"#000\" stroke-linecap=\"round\" stroke-linejoin=\"round\" stroke-width=\"1.5\"><path d=\"M9 36c3.39-.97 10.11.43 13.5-2 3.39 2.43 10.11 1.03 13.5 2 0 0 1.65.54 3 2-.68.97-1.65.99-3 .5-3.39-.97-10.11.46-13.5-1-3.39 1.46-10.11.03-13.5 1-1.354.49-2.323.47-3-.5 1.354-1.94 3-2 3-2zm6-4c2.5 2.5 12.5 2.5 15 0 .5-1.5 0-2 0-2 0-2.5-2.5-4-2.5-4 5.5-1.5 6-11.5-5-15.5-11 4-10.5 14-5 15.5 0 0-2.5 1.5-2.5 4 0 0-.5.5 0 2zM25 8a2.5 2.5 0 1 1-5 0 2.5 2.5 0 1 1 5 0z\" fill=\"#000\" stroke-linecap=\"butt\" /><path d=\"M17.5 26h10M15 30h15m-7.5-14.5v5M20 18h5\" stroke=\"#fff\" stroke-linejoin=\"miter\" /></g><g class=\"black rook\" fill=\"#000\" fill-rule=\"evenodd\" id=\"black-rook\" stroke=\"#000\" stroke-linecap=\"round\" stroke-linejoin=\"round\" stroke-width=\"1.5\"><path d=\"M9 39h27v-3H9v3zM12.5 32l1.5-2.5h17l1.5 2.5h-20zM12 36v-4h21v4H12z\" stroke-linecap=\"butt\" /><path d=\"M14 29.5v-13h17v13H14z\" stroke-linecap=\"butt\" stroke-linejoin=\"miter\" /><path d=\"M14 16.5L11 14h23l-3 2.5H14zM11 14V9h4v2h5V9h5v2h5V9h4v5H11z\" stroke-linecap=\"butt\" /><path d=\"M12 35.5h21M13 31.5h19M14 29.5h17M14 16.5h17M11 14h23\" fill=\"none\" stroke=\"#fff\" stroke-linejoin=\"miter\" stroke-width=\"1\" /></g><g class=\"black queen\" fill=\"#000\" fill-rule=\"evenodd\" id=\"black-queen\" stroke=\"#000\" stroke-linecap=\"round\" stroke-linejoin=\"round\" stroke-width=\"1.5\"><g fill=\"#000\" stroke=\"none\"><circle cx=\"6\" cy=\"12\" r=\"2.75\" /><circle cx=\"14\" cy=\"9\" r=\"2.75\" /><circle cx=\"22.5\" cy=\"8\" r=\"2.75\" /><circle cx=\"31\" cy=\"9\" r=\"2.75\" /><circle cx=\"39\" cy=\"12\" r=\"2.75\" /></g><path d=\"M9 26c8.5-1.5 21-1.5 27 0l2.5-12.5L31 25l-.3-14.1-5.2 13.6-3-14.5-3 14.5-5.2-13.6L14 25 6.5 13.5 9 26zM9 26c0 2 1.5 2 2.5 4 1 1.5 1 1 .5 3.5-1.5 1-1.5 2.5-1.5 2.5-1.5 1.5.5 2.5.5 2.5 6.5 1 16.5 1 23 0 0 0 1.5-1 0-2.5 0 0 .5-1.5-1-2.5-.5-2.5-.5-2 .5-3.5 1-2 2.5-2 2.5-4-8.5-1.5-18.5-1.5-27 0z\" stroke-linecap=\"butt\" /><path d=\"M11 38.5a35 35 1 0 0 23 0\" fill=\"none\" stroke-linecap=\"butt\" /><path d=\"M11 29a35 35 1 0 1 23 0M12.5 31.5h20M11.5 34.5a35 35 1 0 0 22 0M10.5 37.5a35 35 1 0 0 24 0\" fill=\"none\" stroke=\"#fff\" /></g><g class=\"black king\" fill=\"none\" fill-rule=\"evenodd\" id=\"black-king\" stroke=\"#000\" stroke-linecap=\"round\" stroke-linejoin=\"round\" stroke-width=\"1.5\"><path d=\"M22.5 11.63V6\" stroke-linejoin=\"miter\" /><path d=\"M22.5 25s4.5-7.5 3-10.5c0 0-1-2.5-3-2.5s-3 2.5-3 2.5c-1.5 3 3 10.5 3 10.5\" fill=\"#000\" stroke-linecap=\"butt\" stroke-linejoin=\"miter\" /><path d=\"M11.5 37c5.5 3.5 15.5 3.5 21 0v-7s9-4.5 6-10.5c-4-6.5-13.5-3.5-16 4V27v-3.5c-3.5-7.5-13-10.5-16-4-3 6 5 10 5 10V37z\" fill=\"#000\" /><path d=\"M20 8h5\" stroke-linejoin=\"miter\" /><path d=\"M32 29.5s8.5-4 6.03-9.65C34.15 14 25 18 22.5 24.5l.01 2.1-.01-2.1C20 18 9.906 14 6.997 19.85c-2.497 5.65 4.853 9 4.853 9M11.5 30c5.5-3 15.5-3 21 0m-21 3.5c5.5-3 15.5-3 21 0m-21 3.5c5.5-3 15.5-3 21 0\" stroke=\"#fff\" /></g></defs><rect class=\"square dark a1\" fill=\"#d18b47\" height=\"45\" stroke=\"none\" width=\"45\" x=\"20\" y=\"335\" /><use transform=\"translate(20, 335)\" xlink:href=\"#white-rook\" /><rect class=\"square light b1\" fill=\"#ffce9e\" height=\"45\" stroke=\"none\" width=\"45\" x=\"65\" y=\"335\" /><use transform=\"translate(65, 335)\" xlink:href=\"#white-knight\" /><rect class=\"square dark c1\" fill=\"#d18b47\" height=\"45\" stroke=\"none\" width=\"45\" x=\"110\" y=\"335\" /><use transform=\"translate(110, 335)\" xlink:href=\"#white-bishop\" /><rect class=\"square light d1\" fill=\"#ffce9e\" height=\"45\" stroke=\"none\" width=\"45\" x=\"155\" y=\"335\" /><use transform=\"translate(155, 335)\" xlink:href=\"#white-queen\" /><rect class=\"square dark e1\" fill=\"#d18b47\" height=\"45\" stroke=\"none\" width=\"45\" x=\"200\" y=\"335\" /><use transform=\"translate(200, 335)\" xlink:href=\"#white-king\" /><rect class=\"square light f1\" fill=\"#ffce9e\" height=\"45\" stroke=\"none\" width=\"45\" x=\"245\" y=\"335\" /><use transform=\"translate(245, 335)\" xlink:href=\"#white-bishop\" /><rect class=\"square dark g1\" fill=\"#d18b47\" height=\"45\" stroke=\"none\" width=\"45\" x=\"290\" y=\"335\" /><use transform=\"translate(290, 335)\" xlink:href=\"#white-knight\" /><rect class=\"square light h1\" fill=\"#ffce9e\" height=\"45\" stroke=\"none\" width=\"45\" x=\"335\" y=\"335\" /><use transform=\"translate(335, 335)\" xlink:href=\"#white-rook\" /><rect class=\"square light a2\" fill=\"#ffce9e\" height=\"45\" stroke=\"none\" width=\"45\" x=\"20\" y=\"290\" /><use transform=\"translate(20, 290)\" xlink:href=\"#white-pawn\" /><rect class=\"square dark b2\" fill=\"#d18b47\" height=\"45\" stroke=\"none\" width=\"45\" x=\"65\" y=\"290\" /><use transform=\"translate(65, 290)\" xlink:href=\"#white-pawn\" /><rect class=\"square light c2\" fill=\"#ffce9e\" height=\"45\" stroke=\"none\" width=\"45\" x=\"110\" y=\"290\" /><use transform=\"translate(110, 290)\" xlink:href=\"#white-pawn\" /><rect class=\"square dark d2\" fill=\"#d18b47\" height=\"45\" stroke=\"none\" width=\"45\" x=\"155\" y=\"290\" /><use transform=\"translate(155, 290)\" xlink:href=\"#white-pawn\" /><rect class=\"square light e2\" fill=\"#ffce9e\" height=\"45\" stroke=\"none\" width=\"45\" x=\"200\" y=\"290\" /><use transform=\"translate(200, 290)\" xlink:href=\"#white-pawn\" /><rect class=\"square dark f2\" fill=\"#d18b47\" height=\"45\" stroke=\"none\" width=\"45\" x=\"245\" y=\"290\" /><use transform=\"translate(245, 290)\" xlink:href=\"#white-pawn\" /><rect class=\"square light g2\" fill=\"#ffce9e\" height=\"45\" stroke=\"none\" width=\"45\" x=\"290\" y=\"290\" /><use transform=\"translate(290, 290)\" xlink:href=\"#white-pawn\" /><rect class=\"square dark h2\" fill=\"#d18b47\" height=\"45\" stroke=\"none\" width=\"45\" x=\"335\" y=\"290\" /><use transform=\"translate(335, 290)\" xlink:href=\"#white-pawn\" /><rect class=\"square dark a3\" fill=\"#d18b47\" height=\"45\" stroke=\"none\" width=\"45\" x=\"20\" y=\"245\" /><rect class=\"square light b3\" fill=\"#ffce9e\" height=\"45\" stroke=\"none\" width=\"45\" x=\"65\" y=\"245\" /><rect class=\"square dark c3\" fill=\"#d18b47\" height=\"45\" stroke=\"none\" width=\"45\" x=\"110\" y=\"245\" /><rect class=\"square light d3\" fill=\"#ffce9e\" height=\"45\" stroke=\"none\" width=\"45\" x=\"155\" y=\"245\" /><rect class=\"square dark e3\" fill=\"#d18b47\" height=\"45\" stroke=\"none\" width=\"45\" x=\"200\" y=\"245\" /><rect class=\"square light f3\" fill=\"#ffce9e\" height=\"45\" stroke=\"none\" width=\"45\" x=\"245\" y=\"245\" /><rect class=\"square dark g3\" fill=\"#d18b47\" height=\"45\" stroke=\"none\" width=\"45\" x=\"290\" y=\"245\" /><rect class=\"square light h3\" fill=\"#ffce9e\" height=\"45\" stroke=\"none\" width=\"45\" x=\"335\" y=\"245\" /><rect class=\"square light a4\" fill=\"#ffce9e\" height=\"45\" stroke=\"none\" width=\"45\" x=\"20\" y=\"200\" /><rect class=\"square dark b4\" fill=\"#d18b47\" height=\"45\" stroke=\"none\" width=\"45\" x=\"65\" y=\"200\" /><rect class=\"square light c4\" fill=\"#ffce9e\" height=\"45\" stroke=\"none\" width=\"45\" x=\"110\" y=\"200\" /><rect class=\"square dark d4\" fill=\"#d18b47\" height=\"45\" stroke=\"none\" width=\"45\" x=\"155\" y=\"200\" /><rect class=\"square light e4\" fill=\"#ffce9e\" height=\"45\" stroke=\"none\" width=\"45\" x=\"200\" y=\"200\" /><rect class=\"square dark f4\" fill=\"#d18b47\" height=\"45\" stroke=\"none\" width=\"45\" x=\"245\" y=\"200\" /><rect class=\"square light g4\" fill=\"#ffce9e\" height=\"45\" stroke=\"none\" width=\"45\" x=\"290\" y=\"200\" /><rect class=\"square dark h4\" fill=\"#d18b47\" height=\"45\" stroke=\"none\" width=\"45\" x=\"335\" y=\"200\" /><rect class=\"square dark a5\" fill=\"#d18b47\" height=\"45\" stroke=\"none\" width=\"45\" x=\"20\" y=\"155\" /><rect class=\"square light b5\" fill=\"#ffce9e\" height=\"45\" stroke=\"none\" width=\"45\" x=\"65\" y=\"155\" /><rect class=\"square dark c5\" fill=\"#d18b47\" height=\"45\" stroke=\"none\" width=\"45\" x=\"110\" y=\"155\" /><rect class=\"square light d5\" fill=\"#ffce9e\" height=\"45\" stroke=\"none\" width=\"45\" x=\"155\" y=\"155\" /><rect class=\"square dark e5\" fill=\"#d18b47\" height=\"45\" stroke=\"none\" width=\"45\" x=\"200\" y=\"155\" /><rect class=\"square light f5\" fill=\"#ffce9e\" height=\"45\" stroke=\"none\" width=\"45\" x=\"245\" y=\"155\" /><rect class=\"square dark g5\" fill=\"#d18b47\" height=\"45\" stroke=\"none\" width=\"45\" x=\"290\" y=\"155\" /><rect class=\"square light h5\" fill=\"#ffce9e\" height=\"45\" stroke=\"none\" width=\"45\" x=\"335\" y=\"155\" /><rect class=\"square light a6\" fill=\"#ffce9e\" height=\"45\" stroke=\"none\" width=\"45\" x=\"20\" y=\"110\" /><rect class=\"square dark b6\" fill=\"#d18b47\" height=\"45\" stroke=\"none\" width=\"45\" x=\"65\" y=\"110\" /><rect class=\"square light c6\" fill=\"#ffce9e\" height=\"45\" stroke=\"none\" width=\"45\" x=\"110\" y=\"110\" /><rect class=\"square dark d6\" fill=\"#d18b47\" height=\"45\" stroke=\"none\" width=\"45\" x=\"155\" y=\"110\" /><rect class=\"square light e6\" fill=\"#ffce9e\" height=\"45\" stroke=\"none\" width=\"45\" x=\"200\" y=\"110\" /><rect class=\"square dark f6\" fill=\"#d18b47\" height=\"45\" stroke=\"none\" width=\"45\" x=\"245\" y=\"110\" /><rect class=\"square light g6\" fill=\"#ffce9e\" height=\"45\" stroke=\"none\" width=\"45\" x=\"290\" y=\"110\" /><rect class=\"square dark h6\" fill=\"#d18b47\" height=\"45\" stroke=\"none\" width=\"45\" x=\"335\" y=\"110\" /><rect class=\"square dark a7\" fill=\"#d18b47\" height=\"45\" stroke=\"none\" width=\"45\" x=\"20\" y=\"65\" /><use transform=\"translate(20, 65)\" xlink:href=\"#black-pawn\" /><rect class=\"square light b7\" fill=\"#ffce9e\" height=\"45\" stroke=\"none\" width=\"45\" x=\"65\" y=\"65\" /><use transform=\"translate(65, 65)\" xlink:href=\"#black-pawn\" /><rect class=\"square dark c7\" fill=\"#d18b47\" height=\"45\" stroke=\"none\" width=\"45\" x=\"110\" y=\"65\" /><use transform=\"translate(110, 65)\" xlink:href=\"#black-pawn\" /><rect class=\"square light d7\" fill=\"#ffce9e\" height=\"45\" stroke=\"none\" width=\"45\" x=\"155\" y=\"65\" /><use transform=\"translate(155, 65)\" xlink:href=\"#black-pawn\" /><rect class=\"square dark e7\" fill=\"#d18b47\" height=\"45\" stroke=\"none\" width=\"45\" x=\"200\" y=\"65\" /><use transform=\"translate(200, 65)\" xlink:href=\"#black-pawn\" /><rect class=\"square light f7\" fill=\"#ffce9e\" height=\"45\" stroke=\"none\" width=\"45\" x=\"245\" y=\"65\" /><use transform=\"translate(245, 65)\" xlink:href=\"#black-pawn\" /><rect class=\"square dark g7\" fill=\"#d18b47\" height=\"45\" stroke=\"none\" width=\"45\" x=\"290\" y=\"65\" /><use transform=\"translate(290, 65)\" xlink:href=\"#black-pawn\" /><rect class=\"square light h7\" fill=\"#ffce9e\" height=\"45\" stroke=\"none\" width=\"45\" x=\"335\" y=\"65\" /><use transform=\"translate(335, 65)\" xlink:href=\"#black-pawn\" /><rect class=\"square light a8\" fill=\"#ffce9e\" height=\"45\" stroke=\"none\" width=\"45\" x=\"20\" y=\"20\" /><use transform=\"translate(20, 20)\" xlink:href=\"#black-rook\" /><rect class=\"square dark b8\" fill=\"#d18b47\" height=\"45\" stroke=\"none\" width=\"45\" x=\"65\" y=\"20\" /><use transform=\"translate(65, 20)\" xlink:href=\"#black-knight\" /><rect class=\"square light c8\" fill=\"#ffce9e\" height=\"45\" stroke=\"none\" width=\"45\" x=\"110\" y=\"20\" /><use transform=\"translate(110, 20)\" xlink:href=\"#black-bishop\" /><rect class=\"square dark d8\" fill=\"#d18b47\" height=\"45\" stroke=\"none\" width=\"45\" x=\"155\" y=\"20\" /><use transform=\"translate(155, 20)\" xlink:href=\"#black-queen\" /><rect class=\"square light e8\" fill=\"#ffce9e\" height=\"45\" stroke=\"none\" width=\"45\" x=\"200\" y=\"20\" /><use transform=\"translate(200, 20)\" xlink:href=\"#black-king\" /><rect class=\"square dark f8\" fill=\"#d18b47\" height=\"45\" stroke=\"none\" width=\"45\" x=\"245\" y=\"20\" /><use transform=\"translate(245, 20)\" xlink:href=\"#black-bishop\" /><rect class=\"square light g8\" fill=\"#ffce9e\" height=\"45\" stroke=\"none\" width=\"45\" x=\"290\" y=\"20\" /><use transform=\"translate(290, 20)\" xlink:href=\"#black-knight\" /><rect class=\"square dark h8\" fill=\"#d18b47\" height=\"45\" stroke=\"none\" width=\"45\" x=\"335\" y=\"20\" /><use transform=\"translate(335, 20)\" xlink:href=\"#black-rook\" /><text alignment-baseline=\"middle\" font-size=\"14\" text-anchor=\"middle\" x=\"42\" y=\"10\">a</text><text alignment-baseline=\"middle\" font-size=\"14\" text-anchor=\"middle\" x=\"42\" y=\"390\">a</text><text alignment-baseline=\"middle\" font-size=\"14\" text-anchor=\"middle\" x=\"87\" y=\"10\">b</text><text alignment-baseline=\"middle\" font-size=\"14\" text-anchor=\"middle\" x=\"87\" y=\"390\">b</text><text alignment-baseline=\"middle\" font-size=\"14\" text-anchor=\"middle\" x=\"132\" y=\"10\">c</text><text alignment-baseline=\"middle\" font-size=\"14\" text-anchor=\"middle\" x=\"132\" y=\"390\">c</text><text alignment-baseline=\"middle\" font-size=\"14\" text-anchor=\"middle\" x=\"177\" y=\"10\">d</text><text alignment-baseline=\"middle\" font-size=\"14\" text-anchor=\"middle\" x=\"177\" y=\"390\">d</text><text alignment-baseline=\"middle\" font-size=\"14\" text-anchor=\"middle\" x=\"222\" y=\"10\">e</text><text alignment-baseline=\"middle\" font-size=\"14\" text-anchor=\"middle\" x=\"222\" y=\"390\">e</text><text alignment-baseline=\"middle\" font-size=\"14\" text-anchor=\"middle\" x=\"267\" y=\"10\">f</text><text alignment-baseline=\"middle\" font-size=\"14\" text-anchor=\"middle\" x=\"267\" y=\"390\">f</text><text alignment-baseline=\"middle\" font-size=\"14\" text-anchor=\"middle\" x=\"312\" y=\"10\">g</text><text alignment-baseline=\"middle\" font-size=\"14\" text-anchor=\"middle\" x=\"312\" y=\"390\">g</text><text alignment-baseline=\"middle\" font-size=\"14\" text-anchor=\"middle\" x=\"357\" y=\"10\">h</text><text alignment-baseline=\"middle\" font-size=\"14\" text-anchor=\"middle\" x=\"357\" y=\"390\">h</text><text alignment-baseline=\"middle\" font-size=\"14\" text-anchor=\"middle\" x=\"10\" y=\"357\">1</text><text alignment-baseline=\"middle\" font-size=\"14\" text-anchor=\"middle\" x=\"390\" y=\"357\">1</text><text alignment-baseline=\"middle\" font-size=\"14\" text-anchor=\"middle\" x=\"10\" y=\"312\">2</text><text alignment-baseline=\"middle\" font-size=\"14\" text-anchor=\"middle\" x=\"390\" y=\"312\">2</text><text alignment-baseline=\"middle\" font-size=\"14\" text-anchor=\"middle\" x=\"10\" y=\"267\">3</text><text alignment-baseline=\"middle\" font-size=\"14\" text-anchor=\"middle\" x=\"390\" y=\"267\">3</text><text alignment-baseline=\"middle\" font-size=\"14\" text-anchor=\"middle\" x=\"10\" y=\"222\">4</text><text alignment-baseline=\"middle\" font-size=\"14\" text-anchor=\"middle\" x=\"390\" y=\"222\">4</text><text alignment-baseline=\"middle\" font-size=\"14\" text-anchor=\"middle\" x=\"10\" y=\"177\">5</text><text alignment-baseline=\"middle\" font-size=\"14\" text-anchor=\"middle\" x=\"390\" y=\"177\">5</text><text alignment-baseline=\"middle\" font-size=\"14\" text-anchor=\"middle\" x=\"10\" y=\"132\">6</text><text alignment-baseline=\"middle\" font-size=\"14\" text-anchor=\"middle\" x=\"390\" y=\"132\">6</text><text alignment-baseline=\"middle\" font-size=\"14\" text-anchor=\"middle\" x=\"10\" y=\"87\">7</text><text alignment-baseline=\"middle\" font-size=\"14\" text-anchor=\"middle\" x=\"390\" y=\"87\">7</text><text alignment-baseline=\"middle\" font-size=\"14\" text-anchor=\"middle\" x=\"10\" y=\"42\">8</text><text alignment-baseline=\"middle\" font-size=\"14\" text-anchor=\"middle\" x=\"390\" y=\"42\">8</text></svg>\n"
     ]
    }
   ],
   "source": [
    "print(b._repr_svg_())"
   ]
  },
  {
   "cell_type": "code",
   "execution_count": null,
   "metadata": {},
   "outputs": [],
   "source": []
  }
 ],
 "metadata": {
  "kernelspec": {
   "display_name": "Python 3",
   "language": "python",
   "name": "python3"
  },
  "language_info": {
   "codemirror_mode": {
    "name": "ipython",
    "version": 3
   },
   "file_extension": ".py",
   "mimetype": "text/x-python",
   "name": "python",
   "nbconvert_exporter": "python",
   "pygments_lexer": "ipython3",
   "version": "3.6.5"
  }
 },
 "nbformat": 4,
 "nbformat_minor": 2
}
